from langchain_text_splitters.character import RecursiveCharacterTextSplitter


import PyPDF2

def read_pdf(file_path):
    with open(file_path, 'rb') as file:
        reader = PyPDF2.PdfReader(file)
        text = ''
        for page in reader.pages:
            text += page.extract_text()
    return text


file_path = "../data/papers/2405.13576v1.pdf"


text = read_pdf(file_path)


text


text_splitter = RecursiveCharacterTextSplitter(
  chunk_size=500,
  chunk_overlap=50
)
texts = text_splitter.split_text(text)


texts[0]
